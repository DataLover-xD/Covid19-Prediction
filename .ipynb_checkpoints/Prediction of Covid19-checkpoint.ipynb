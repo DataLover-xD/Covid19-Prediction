{
 "cells": [
  {
   "cell_type": "code",
   "execution_count": 1,
   "metadata": {},
   "outputs": [],
   "source": [
    "#IMPORTS\n",
    "import pandas as pd\n",
    "import numpy as np\n",
    "import matplotlib.pyplot as plt\n",
    "import seaborn as sns\n",
    "%matplotlib inline"
   ]
  },
  {
   "cell_type": "code",
   "execution_count": 2,
   "metadata": {},
   "outputs": [
    {
     "data": {
      "text/html": [
       "        <script type=\"text/javascript\">\n",
       "        window.PlotlyConfig = {MathJaxConfig: 'local'};\n",
       "        if (window.MathJax) {MathJax.Hub.Config({SVG: {font: \"STIX-Web\"}});}\n",
       "        if (typeof require !== 'undefined') {\n",
       "        require.undef(\"plotly\");\n",
       "        requirejs.config({\n",
       "            paths: {\n",
       "                'plotly': ['https://cdn.plot.ly/plotly-latest.min']\n",
       "            }\n",
       "        });\n",
       "        require(['plotly'], function(Plotly) {\n",
       "            window._Plotly = Plotly;\n",
       "        });\n",
       "        }\n",
       "        </script>\n",
       "        "
      ]
     },
     "metadata": {},
     "output_type": "display_data"
    },
    {
     "data": {
      "text/html": [
       "        <script type=\"text/javascript\">\n",
       "        window.PlotlyConfig = {MathJaxConfig: 'local'};\n",
       "        if (window.MathJax) {MathJax.Hub.Config({SVG: {font: \"STIX-Web\"}});}\n",
       "        if (typeof require !== 'undefined') {\n",
       "        require.undef(\"plotly\");\n",
       "        requirejs.config({\n",
       "            paths: {\n",
       "                'plotly': ['https://cdn.plot.ly/plotly-latest.min']\n",
       "            }\n",
       "        });\n",
       "        require(['plotly'], function(Plotly) {\n",
       "            window._Plotly = Plotly;\n",
       "        });\n",
       "        }\n",
       "        </script>\n",
       "        "
      ]
     },
     "metadata": {},
     "output_type": "display_data"
    }
   ],
   "source": [
    "from plotly import __version__\n",
    "from plotly.offline import download_plotlyjs, init_notebook_mode, plot, iplot\n",
    "import cufflinks as cf\n",
    "init_notebook_mode(connected=True)\n",
    "cf.go_offline()"
   ]
  },
  {
   "cell_type": "code",
   "execution_count": 3,
   "metadata": {},
   "outputs": [],
   "source": [
    "df = pd.read_csv('Covid19 India.csv')"
   ]
  },
  {
   "cell_type": "code",
   "execution_count": 4,
   "metadata": {},
   "outputs": [
    {
     "data": {
      "text/html": [
       "<div>\n",
       "<style scoped>\n",
       "    .dataframe tbody tr th:only-of-type {\n",
       "        vertical-align: middle;\n",
       "    }\n",
       "\n",
       "    .dataframe tbody tr th {\n",
       "        vertical-align: top;\n",
       "    }\n",
       "\n",
       "    .dataframe thead th {\n",
       "        text-align: right;\n",
       "    }\n",
       "</style>\n",
       "<table border=\"1\" class=\"dataframe\">\n",
       "  <thead>\n",
       "    <tr style=\"text-align: right;\">\n",
       "      <th></th>\n",
       "      <th>Unnamed: 0</th>\n",
       "      <th>Date_reported</th>\n",
       "      <th>New_cases</th>\n",
       "      <th>Cumulative_cases</th>\n",
       "      <th>New_deaths</th>\n",
       "      <th>Cumulative_deaths</th>\n",
       "      <th>Month</th>\n",
       "      <th>Week number</th>\n",
       "      <th>Month number</th>\n",
       "    </tr>\n",
       "  </thead>\n",
       "  <tbody>\n",
       "    <tr>\n",
       "      <th>0</th>\n",
       "      <td>0</td>\n",
       "      <td>2020-01-30</td>\n",
       "      <td>5</td>\n",
       "      <td>5</td>\n",
       "      <td>0</td>\n",
       "      <td>0</td>\n",
       "      <td>January</td>\n",
       "      <td>1</td>\n",
       "      <td>1</td>\n",
       "    </tr>\n",
       "    <tr>\n",
       "      <th>1</th>\n",
       "      <td>1</td>\n",
       "      <td>2020-01-31</td>\n",
       "      <td>0</td>\n",
       "      <td>5</td>\n",
       "      <td>0</td>\n",
       "      <td>0</td>\n",
       "      <td>January</td>\n",
       "      <td>1</td>\n",
       "      <td>1</td>\n",
       "    </tr>\n",
       "    <tr>\n",
       "      <th>2</th>\n",
       "      <td>2</td>\n",
       "      <td>2020-02-01</td>\n",
       "      <td>0</td>\n",
       "      <td>5</td>\n",
       "      <td>0</td>\n",
       "      <td>0</td>\n",
       "      <td>February</td>\n",
       "      <td>1</td>\n",
       "      <td>2</td>\n",
       "    </tr>\n",
       "    <tr>\n",
       "      <th>3</th>\n",
       "      <td>3</td>\n",
       "      <td>2020-02-02</td>\n",
       "      <td>1</td>\n",
       "      <td>6</td>\n",
       "      <td>0</td>\n",
       "      <td>0</td>\n",
       "      <td>February</td>\n",
       "      <td>1</td>\n",
       "      <td>2</td>\n",
       "    </tr>\n",
       "    <tr>\n",
       "      <th>4</th>\n",
       "      <td>4</td>\n",
       "      <td>2020-02-03</td>\n",
       "      <td>1</td>\n",
       "      <td>7</td>\n",
       "      <td>0</td>\n",
       "      <td>0</td>\n",
       "      <td>February</td>\n",
       "      <td>1</td>\n",
       "      <td>2</td>\n",
       "    </tr>\n",
       "  </tbody>\n",
       "</table>\n",
       "</div>"
      ],
      "text/plain": [
       "   Unnamed: 0 Date_reported   New_cases   Cumulative_cases   New_deaths  \\\n",
       "0           0    2020-01-30           5                  5            0   \n",
       "1           1    2020-01-31           0                  5            0   \n",
       "2           2    2020-02-01           0                  5            0   \n",
       "3           3    2020-02-02           1                  6            0   \n",
       "4           4    2020-02-03           1                  7            0   \n",
       "\n",
       "    Cumulative_deaths     Month  Week number  Month number  \n",
       "0                   0   January            1             1  \n",
       "1                   0   January            1             1  \n",
       "2                   0  February            1             2  \n",
       "3                   0  February            1             2  \n",
       "4                   0  February            1             2  "
      ]
     },
     "execution_count": 4,
     "metadata": {},
     "output_type": "execute_result"
    }
   ],
   "source": [
    "df.head()"
   ]
  },
  {
   "cell_type": "code",
   "execution_count": 5,
   "metadata": {},
   "outputs": [
    {
     "data": {
      "text/html": [
       "<div>\n",
       "<style scoped>\n",
       "    .dataframe tbody tr th:only-of-type {\n",
       "        vertical-align: middle;\n",
       "    }\n",
       "\n",
       "    .dataframe tbody tr th {\n",
       "        vertical-align: top;\n",
       "    }\n",
       "\n",
       "    .dataframe thead th {\n",
       "        text-align: right;\n",
       "    }\n",
       "</style>\n",
       "<table border=\"1\" class=\"dataframe\">\n",
       "  <thead>\n",
       "    <tr style=\"text-align: right;\">\n",
       "      <th></th>\n",
       "      <th>Unnamed: 0</th>\n",
       "      <th>Date_reported</th>\n",
       "      <th>New_cases</th>\n",
       "      <th>Cumulative_cases</th>\n",
       "      <th>New_deaths</th>\n",
       "      <th>Cumulative_deaths</th>\n",
       "      <th>Month</th>\n",
       "      <th>Week number</th>\n",
       "      <th>Month number</th>\n",
       "    </tr>\n",
       "  </thead>\n",
       "  <tbody>\n",
       "    <tr>\n",
       "      <th>223</th>\n",
       "      <td>223</td>\n",
       "      <td>2020-09-09</td>\n",
       "      <td>89706</td>\n",
       "      <td>4370128</td>\n",
       "      <td>1115</td>\n",
       "      <td>73890</td>\n",
       "      <td>September</td>\n",
       "      <td>32</td>\n",
       "      <td>9</td>\n",
       "    </tr>\n",
       "    <tr>\n",
       "      <th>224</th>\n",
       "      <td>224</td>\n",
       "      <td>2020-09-10</td>\n",
       "      <td>95735</td>\n",
       "      <td>4465863</td>\n",
       "      <td>1172</td>\n",
       "      <td>75062</td>\n",
       "      <td>September</td>\n",
       "      <td>33</td>\n",
       "      <td>9</td>\n",
       "    </tr>\n",
       "    <tr>\n",
       "      <th>225</th>\n",
       "      <td>225</td>\n",
       "      <td>2020-09-11</td>\n",
       "      <td>96551</td>\n",
       "      <td>4562414</td>\n",
       "      <td>1209</td>\n",
       "      <td>76271</td>\n",
       "      <td>September</td>\n",
       "      <td>33</td>\n",
       "      <td>9</td>\n",
       "    </tr>\n",
       "    <tr>\n",
       "      <th>226</th>\n",
       "      <td>226</td>\n",
       "      <td>2020-09-12</td>\n",
       "      <td>97570</td>\n",
       "      <td>4659984</td>\n",
       "      <td>1201</td>\n",
       "      <td>77472</td>\n",
       "      <td>September</td>\n",
       "      <td>33</td>\n",
       "      <td>9</td>\n",
       "    </tr>\n",
       "    <tr>\n",
       "      <th>227</th>\n",
       "      <td>227</td>\n",
       "      <td>2020-09-13</td>\n",
       "      <td>94372</td>\n",
       "      <td>4754356</td>\n",
       "      <td>1114</td>\n",
       "      <td>78586</td>\n",
       "      <td>September</td>\n",
       "      <td>33</td>\n",
       "      <td>9</td>\n",
       "    </tr>\n",
       "    <tr>\n",
       "      <th>228</th>\n",
       "      <td>228</td>\n",
       "      <td>2020-09-14</td>\n",
       "      <td>92071</td>\n",
       "      <td>4846427</td>\n",
       "      <td>1136</td>\n",
       "      <td>79722</td>\n",
       "      <td>September</td>\n",
       "      <td>33</td>\n",
       "      <td>9</td>\n",
       "    </tr>\n",
       "    <tr>\n",
       "      <th>229</th>\n",
       "      <td>229</td>\n",
       "      <td>2020-09-15</td>\n",
       "      <td>83809</td>\n",
       "      <td>4930236</td>\n",
       "      <td>1054</td>\n",
       "      <td>80776</td>\n",
       "      <td>September</td>\n",
       "      <td>33</td>\n",
       "      <td>9</td>\n",
       "    </tr>\n",
       "    <tr>\n",
       "      <th>230</th>\n",
       "      <td>230</td>\n",
       "      <td>2020-09-16</td>\n",
       "      <td>90123</td>\n",
       "      <td>5020359</td>\n",
       "      <td>1290</td>\n",
       "      <td>82066</td>\n",
       "      <td>September</td>\n",
       "      <td>33</td>\n",
       "      <td>9</td>\n",
       "    </tr>\n",
       "    <tr>\n",
       "      <th>231</th>\n",
       "      <td>231</td>\n",
       "      <td>2020-09-17</td>\n",
       "      <td>97894</td>\n",
       "      <td>5118253</td>\n",
       "      <td>1132</td>\n",
       "      <td>83198</td>\n",
       "      <td>September</td>\n",
       "      <td>34</td>\n",
       "      <td>9</td>\n",
       "    </tr>\n",
       "    <tr>\n",
       "      <th>232</th>\n",
       "      <td>232</td>\n",
       "      <td>2020-09-18</td>\n",
       "      <td>96424</td>\n",
       "      <td>5214677</td>\n",
       "      <td>1174</td>\n",
       "      <td>84372</td>\n",
       "      <td>September</td>\n",
       "      <td>34</td>\n",
       "      <td>9</td>\n",
       "    </tr>\n",
       "  </tbody>\n",
       "</table>\n",
       "</div>"
      ],
      "text/plain": [
       "     Unnamed: 0 Date_reported   New_cases   Cumulative_cases   New_deaths  \\\n",
       "223         223    2020-09-09       89706            4370128         1115   \n",
       "224         224    2020-09-10       95735            4465863         1172   \n",
       "225         225    2020-09-11       96551            4562414         1209   \n",
       "226         226    2020-09-12       97570            4659984         1201   \n",
       "227         227    2020-09-13       94372            4754356         1114   \n",
       "228         228    2020-09-14       92071            4846427         1136   \n",
       "229         229    2020-09-15       83809            4930236         1054   \n",
       "230         230    2020-09-16       90123            5020359         1290   \n",
       "231         231    2020-09-17       97894            5118253         1132   \n",
       "232         232    2020-09-18       96424            5214677         1174   \n",
       "\n",
       "      Cumulative_deaths      Month  Week number  Month number  \n",
       "223               73890  September           32             9  \n",
       "224               75062  September           33             9  \n",
       "225               76271  September           33             9  \n",
       "226               77472  September           33             9  \n",
       "227               78586  September           33             9  \n",
       "228               79722  September           33             9  \n",
       "229               80776  September           33             9  \n",
       "230               82066  September           33             9  \n",
       "231               83198  September           34             9  \n",
       "232               84372  September           34             9  "
      ]
     },
     "execution_count": 5,
     "metadata": {},
     "output_type": "execute_result"
    }
   ],
   "source": [
    "df.tail(10)"
   ]
  },
  {
   "cell_type": "code",
   "execution_count": 6,
   "metadata": {},
   "outputs": [
    {
     "data": {
      "text/html": [
       "<div>\n",
       "<style scoped>\n",
       "    .dataframe tbody tr th:only-of-type {\n",
       "        vertical-align: middle;\n",
       "    }\n",
       "\n",
       "    .dataframe tbody tr th {\n",
       "        vertical-align: top;\n",
       "    }\n",
       "\n",
       "    .dataframe thead th {\n",
       "        text-align: right;\n",
       "    }\n",
       "</style>\n",
       "<table border=\"1\" class=\"dataframe\">\n",
       "  <thead>\n",
       "    <tr style=\"text-align: right;\">\n",
       "      <th></th>\n",
       "      <th>Unnamed: 0</th>\n",
       "      <th>New_cases</th>\n",
       "      <th>Cumulative_cases</th>\n",
       "      <th>New_deaths</th>\n",
       "      <th>Cumulative_deaths</th>\n",
       "      <th>Week number</th>\n",
       "      <th>Month number</th>\n",
       "    </tr>\n",
       "  </thead>\n",
       "  <tbody>\n",
       "    <tr>\n",
       "      <th>Unnamed: 0</th>\n",
       "      <td>1.000000</td>\n",
       "      <td>0.877195</td>\n",
       "      <td>0.814057</td>\n",
       "      <td>0.901950</td>\n",
       "      <td>0.868162</td>\n",
       "      <td>0.999556</td>\n",
       "      <td>0.991549</td>\n",
       "    </tr>\n",
       "    <tr>\n",
       "      <th>New_cases</th>\n",
       "      <td>0.877195</td>\n",
       "      <td>1.000000</td>\n",
       "      <td>0.976340</td>\n",
       "      <td>0.933033</td>\n",
       "      <td>0.992440</td>\n",
       "      <td>0.877891</td>\n",
       "      <td>0.872273</td>\n",
       "    </tr>\n",
       "    <tr>\n",
       "      <th>Cumulative_cases</th>\n",
       "      <td>0.814057</td>\n",
       "      <td>0.976340</td>\n",
       "      <td>1.000000</td>\n",
       "      <td>0.885848</td>\n",
       "      <td>0.990729</td>\n",
       "      <td>0.814018</td>\n",
       "      <td>0.810722</td>\n",
       "    </tr>\n",
       "    <tr>\n",
       "      <th>New_deaths</th>\n",
       "      <td>0.901950</td>\n",
       "      <td>0.933033</td>\n",
       "      <td>0.885848</td>\n",
       "      <td>1.000000</td>\n",
       "      <td>0.925551</td>\n",
       "      <td>0.901511</td>\n",
       "      <td>0.896319</td>\n",
       "    </tr>\n",
       "    <tr>\n",
       "      <th>Cumulative_deaths</th>\n",
       "      <td>0.868162</td>\n",
       "      <td>0.992440</td>\n",
       "      <td>0.990729</td>\n",
       "      <td>0.925551</td>\n",
       "      <td>1.000000</td>\n",
       "      <td>0.868078</td>\n",
       "      <td>0.863390</td>\n",
       "    </tr>\n",
       "    <tr>\n",
       "      <th>Week number</th>\n",
       "      <td>0.999556</td>\n",
       "      <td>0.877891</td>\n",
       "      <td>0.814018</td>\n",
       "      <td>0.901511</td>\n",
       "      <td>0.868078</td>\n",
       "      <td>1.000000</td>\n",
       "      <td>0.990931</td>\n",
       "    </tr>\n",
       "    <tr>\n",
       "      <th>Month number</th>\n",
       "      <td>0.991549</td>\n",
       "      <td>0.872273</td>\n",
       "      <td>0.810722</td>\n",
       "      <td>0.896319</td>\n",
       "      <td>0.863390</td>\n",
       "      <td>0.990931</td>\n",
       "      <td>1.000000</td>\n",
       "    </tr>\n",
       "  </tbody>\n",
       "</table>\n",
       "</div>"
      ],
      "text/plain": [
       "                    Unnamed: 0   New_cases   Cumulative_cases   New_deaths  \\\n",
       "Unnamed: 0            1.000000    0.877195           0.814057     0.901950   \n",
       " New_cases            0.877195    1.000000           0.976340     0.933033   \n",
       " Cumulative_cases     0.814057    0.976340           1.000000     0.885848   \n",
       " New_deaths           0.901950    0.933033           0.885848     1.000000   \n",
       " Cumulative_deaths    0.868162    0.992440           0.990729     0.925551   \n",
       "Week number           0.999556    0.877891           0.814018     0.901511   \n",
       "Month number          0.991549    0.872273           0.810722     0.896319   \n",
       "\n",
       "                     Cumulative_deaths  Week number  Month number  \n",
       "Unnamed: 0                    0.868162     0.999556      0.991549  \n",
       " New_cases                    0.992440     0.877891      0.872273  \n",
       " Cumulative_cases             0.990729     0.814018      0.810722  \n",
       " New_deaths                   0.925551     0.901511      0.896319  \n",
       " Cumulative_deaths            1.000000     0.868078      0.863390  \n",
       "Week number                   0.868078     1.000000      0.990931  \n",
       "Month number                  0.863390     0.990931      1.000000  "
      ]
     },
     "execution_count": 6,
     "metadata": {},
     "output_type": "execute_result"
    }
   ],
   "source": [
    "df.corr()"
   ]
  },
  {
   "cell_type": "code",
   "execution_count": 7,
   "metadata": {},
   "outputs": [
    {
     "data": {
      "text/plain": [
       " Cumulative_cases     1.000000\n",
       " Cumulative_deaths    0.990729\n",
       " New_cases            0.976340\n",
       " New_deaths           0.885848\n",
       "Unnamed: 0            0.814057\n",
       "Week number           0.814018\n",
       "Month number          0.810722\n",
       "Name:  Cumulative_cases, dtype: float64"
      ]
     },
     "execution_count": 7,
     "metadata": {},
     "output_type": "execute_result"
    }
   ],
   "source": [
    "df.corr()[' Cumulative_cases'].sort_values(ascending=False)"
   ]
  },
  {
   "cell_type": "code",
   "execution_count": 8,
   "metadata": {},
   "outputs": [],
   "source": [
    "#input: total cases\n",
    "#prediction total deaths"
   ]
  },
  {
   "cell_type": "code",
   "execution_count": 9,
   "metadata": {},
   "outputs": [],
   "source": [
    "X = df[[' Cumulative_cases']]\n",
    "y = df[' Cumulative_deaths']"
   ]
  },
  {
   "cell_type": "code",
   "execution_count": 10,
   "metadata": {},
   "outputs": [],
   "source": [
    "from sklearn.model_selection import train_test_split"
   ]
  },
  {
   "cell_type": "code",
   "execution_count": 11,
   "metadata": {},
   "outputs": [],
   "source": [
    "X_train, X_test, y_train, y_test = train_test_split(X, y, test_size=0.20, random_state=101)"
   ]
  },
  {
   "cell_type": "code",
   "execution_count": 12,
   "metadata": {},
   "outputs": [],
   "source": [
    "from sklearn.linear_model import LinearRegression"
   ]
  },
  {
   "cell_type": "code",
   "execution_count": 13,
   "metadata": {},
   "outputs": [],
   "source": [
    "lm = LinearRegression()"
   ]
  },
  {
   "cell_type": "code",
   "execution_count": 14,
   "metadata": {},
   "outputs": [
    {
     "data": {
      "text/plain": [
       "LinearRegression()"
      ]
     },
     "execution_count": 14,
     "metadata": {},
     "output_type": "execute_result"
    }
   ],
   "source": [
    "lm.fit(X_train,y_train)"
   ]
  },
  {
   "cell_type": "code",
   "execution_count": 15,
   "metadata": {},
   "outputs": [],
   "source": [
    "predictions = lm.predict(X_test)"
   ]
  },
  {
   "cell_type": "code",
   "execution_count": 16,
   "metadata": {},
   "outputs": [
    {
     "data": {
      "text/plain": [
       "<matplotlib.collections.PathCollection at 0x1fdf1b80e50>"
      ]
     },
     "execution_count": 16,
     "metadata": {},
     "output_type": "execute_result"
    },
    {
     "data": {
      "image/png": "[encoded data removed]",
      "text/plain": [
       "<Figure size 432x288 with 1 Axes>"
      ]
     },
     "metadata": {
      "needs_background": "light"
     },
     "output_type": "display_data"
    }
   ],
   "source": [
    "plt.scatter(y_test,predictions)"
   ]
  },
  {
   "cell_type": "code",
   "execution_count": 17,
   "metadata": {},
   "outputs": [],
   "source": [
    "from sklearn import metrics"
   ]
  },
  {
   "cell_type": "code",
   "execution_count": 18,
   "metadata": {},
   "outputs": [
    {
     "name": "stdout",
     "output_type": "stream",
     "text": [
      "MAE: 2671.1872197947982\n",
      "MSE: 10781180.1299331\n",
      "RMSE: 3283.4707444917335\n"
     ]
    }
   ],
   "source": [
    "print('MAE:', metrics.mean_absolute_error(y_test, predictions))\n",
    "print('MSE:', metrics.mean_squared_error(y_test, predictions))\n",
    "print('RMSE:', np.sqrt(metrics.mean_squared_error(y_test, predictions)))"
   ]
  },
  {
   "cell_type": "code",
   "execution_count": 19,
   "metadata": {},
   "outputs": [],
   "source": [
    "x_new1 = [[5000000]] #total cases"
   ]
  },
  {
   "cell_type": "code",
   "execution_count": 20,
   "metadata": {},
   "outputs": [
    {
     "name": "stdout",
     "output_type": "stream",
     "text": [
      "[89229.89989977]\n"
     ]
    }
   ],
   "source": [
    "y1 = lm.predict(x_new1) #total deaths\n",
    "print(y1)"
   ]
  },
  {
   "cell_type": "code",
   "execution_count": 21,
   "metadata": {},
   "outputs": [],
   "source": [
    "x_new2 = [[5500000]] #total cases"
   ]
  },
  {
   "cell_type": "code",
   "execution_count": 22,
   "metadata": {},
   "outputs": [
    {
     "name": "stdout",
     "output_type": "stream",
     "text": [
      "[97924.27115264]\n"
     ]
    }
   ],
   "source": [
    "y2 = lm.predict(x_new2) #total deaths\n",
    "print(y2)"
   ]
  },
  {
   "cell_type": "code",
   "execution_count": 23,
   "metadata": {},
   "outputs": [],
   "source": [
    "x_new3 = [[6000000]] #total cases   [90269,99080,107891,116702,125513,134324]"
   ]
  },
  {
   "cell_type": "code",
   "execution_count": 24,
   "metadata": {},
   "outputs": [
    {
     "name": "stdout",
     "output_type": "stream",
     "text": [
      "[106618.64240552]\n"
     ]
    }
   ],
   "source": [
    "y3 = lm.predict(x_new3) #total deaths\n",
    "print(y3)"
   ]
  },
  {
   "cell_type": "code",
   "execution_count": 25,
   "metadata": {},
   "outputs": [],
   "source": [
    "x_new4 = [[6500000]] #total cases"
   ]
  },
  {
   "cell_type": "code",
   "execution_count": 26,
   "metadata": {},
   "outputs": [
    {
     "name": "stdout",
     "output_type": "stream",
     "text": [
      "[115313.0136584]\n"
     ]
    }
   ],
   "source": [
    "y4 = lm.predict(x_new4) #total deaths\n",
    "print(y4)"
   ]
  },
  {
   "cell_type": "code",
   "execution_count": 27,
   "metadata": {},
   "outputs": [],
   "source": [
    "x_new5 = [[7000000]] #total cases"
   ]
  },
  {
   "cell_type": "code",
   "execution_count": 28,
   "metadata": {},
   "outputs": [
    {
     "name": "stdout",
     "output_type": "stream",
     "text": [
      "[124007.38491128]\n"
     ]
    }
   ],
   "source": [
    "y5 = lm.predict(x_new5) #total deaths\n",
    "print(y5)"
   ]
  },
  {
   "cell_type": "code",
   "execution_count": 29,
   "metadata": {},
   "outputs": [],
   "source": [
    "x_new6 = [[7500000]] #total cases"
   ]
  },
  {
   "cell_type": "code",
   "execution_count": 30,
   "metadata": {},
   "outputs": [
    {
     "name": "stdout",
     "output_type": "stream",
     "text": [
      "[132701.75616415]\n"
     ]
    }
   ],
   "source": [
    "y6 = lm.predict(x_new6) #total deaths\n",
    "print(y6)"
   ]
  },
  {
   "cell_type": "code",
   "execution_count": 31,
   "metadata": {},
   "outputs": [
    {
     "data": {
      "text/plain": [
       "<AxesSubplot:xlabel=' Cumulative_cases', ylabel=' Cumulative_deaths'>"
      ]
     },
     "execution_count": 31,
     "metadata": {},
     "output_type": "execute_result"
    },
    {
     "data": {
      "image/png": "[encoded data removed]",
      "text/plain": [
       "<Figure size 432x288 with 1 Axes>"
      ]
     },
     "metadata": {
      "needs_background": "light"
     },
     "output_type": "display_data"
    }
   ],
   "source": [
    "sns.lineplot(x=' Cumulative_cases',y=' Cumulative_deaths',data=df)"
   ]
  },
  {
   "cell_type": "code",
   "execution_count": 32,
   "metadata": {},
   "outputs": [],
   "source": [
    "x = [5000000,5500000,6000000,6500000,7000000,7500000]\n",
    "y = [90123,98918,107713,116508,125303,134098]"
   ]
  },
  {
   "cell_type": "code",
   "execution_count": 33,
   "metadata": {},
   "outputs": [
    {
     "name": "stderr",
     "output_type": "stream",
     "text": [
      "C:\\Users\\iNDIA\\anaconda3\\lib\\site-packages\\seaborn\\_decorators.py:36: FutureWarning:\n",
      "\n",
      "Pass the following variables as keyword args: x, y. From version 0.12, the only valid positional argument will be `data`, and passing other arguments without an explicit keyword will result in an error or misinterpretation.\n",
      "\n"
     ]
    },
    {
     "data": {
      "text/plain": [
       "<AxesSubplot:xlabel=' Cumulative_cases', ylabel=' Cumulative_deaths'>"
      ]
     },
     "execution_count": 33,
     "metadata": {},
     "output_type": "execute_result"
    },
    {
     "data": {
      "image/png": "[encoded data removed]",
      "text/plain": [
       "<Figure size 432x288 with 1 Axes>"
      ]
     },
     "metadata": {
      "needs_background": "light"
     },
     "output_type": "display_data"
    }
   ],
   "source": [
    "sns.lineplot(x,y) #my future prediciton\n",
    "sns.lineplot(x=' Cumulative_cases',y=' Cumulative_deaths',data=df)\n",
    "#orenge is current\n",
    "#blue is future predictions"
   ]
  },
  {
   "cell_type": "code",
   "execution_count": 34,
   "metadata": {},
   "outputs": [],
   "source": [
    "cumulative_cases=[]\n",
    "cumulative_death=[]\n",
    "for i in range(5000000,27000000,1000000):\n",
    "    x_new = [[i]]\n",
    "    y_new = lm.predict(x_new)\n",
    "    cumulative_cases.append(i)\n",
    "    cumulative_death.append(y_new)"
   ]
  },
  {
   "cell_type": "code",
   "execution_count": 35,
   "metadata": {},
   "outputs": [],
   "source": [
    "#input: week number\n",
    "#prediction total cases"
   ]
  },
  {
   "cell_type": "code",
   "execution_count": 36,
   "metadata": {},
   "outputs": [
    {
     "data": {
      "text/html": [
       "<div>\n",
       "<style scoped>\n",
       "    .dataframe tbody tr th:only-of-type {\n",
       "        vertical-align: middle;\n",
       "    }\n",
       "\n",
       "    .dataframe tbody tr th {\n",
       "        vertical-align: top;\n",
       "    }\n",
       "\n",
       "    .dataframe thead th {\n",
       "        text-align: right;\n",
       "    }\n",
       "</style>\n",
       "<table border=\"1\" class=\"dataframe\">\n",
       "  <thead>\n",
       "    <tr style=\"text-align: right;\">\n",
       "      <th></th>\n",
       "      <th>Unnamed: 0</th>\n",
       "      <th>Date_reported</th>\n",
       "      <th>New_cases</th>\n",
       "      <th>Cumulative_cases</th>\n",
       "      <th>New_deaths</th>\n",
       "      <th>Cumulative_deaths</th>\n",
       "      <th>Month</th>\n",
       "      <th>Week number</th>\n",
       "      <th>Month number</th>\n",
       "    </tr>\n",
       "  </thead>\n",
       "  <tbody>\n",
       "    <tr>\n",
       "      <th>0</th>\n",
       "      <td>0</td>\n",
       "      <td>2020-01-30</td>\n",
       "      <td>5</td>\n",
       "      <td>5</td>\n",
       "      <td>0</td>\n",
       "      <td>0</td>\n",
       "      <td>January</td>\n",
       "      <td>1</td>\n",
       "      <td>1</td>\n",
       "    </tr>\n",
       "    <tr>\n",
       "      <th>1</th>\n",
       "      <td>1</td>\n",
       "      <td>2020-01-31</td>\n",
       "      <td>0</td>\n",
       "      <td>5</td>\n",
       "      <td>0</td>\n",
       "      <td>0</td>\n",
       "      <td>January</td>\n",
       "      <td>1</td>\n",
       "      <td>1</td>\n",
       "    </tr>\n",
       "    <tr>\n",
       "      <th>2</th>\n",
       "      <td>2</td>\n",
       "      <td>2020-02-01</td>\n",
       "      <td>0</td>\n",
       "      <td>5</td>\n",
       "      <td>0</td>\n",
       "      <td>0</td>\n",
       "      <td>February</td>\n",
       "      <td>1</td>\n",
       "      <td>2</td>\n",
       "    </tr>\n",
       "    <tr>\n",
       "      <th>3</th>\n",
       "      <td>3</td>\n",
       "      <td>2020-02-02</td>\n",
       "      <td>1</td>\n",
       "      <td>6</td>\n",
       "      <td>0</td>\n",
       "      <td>0</td>\n",
       "      <td>February</td>\n",
       "      <td>1</td>\n",
       "      <td>2</td>\n",
       "    </tr>\n",
       "    <tr>\n",
       "      <th>4</th>\n",
       "      <td>4</td>\n",
       "      <td>2020-02-03</td>\n",
       "      <td>1</td>\n",
       "      <td>7</td>\n",
       "      <td>0</td>\n",
       "      <td>0</td>\n",
       "      <td>February</td>\n",
       "      <td>1</td>\n",
       "      <td>2</td>\n",
       "    </tr>\n",
       "    <tr>\n",
       "      <th>...</th>\n",
       "      <td>...</td>\n",
       "      <td>...</td>\n",
       "      <td>...</td>\n",
       "      <td>...</td>\n",
       "      <td>...</td>\n",
       "      <td>...</td>\n",
       "      <td>...</td>\n",
       "      <td>...</td>\n",
       "      <td>...</td>\n",
       "    </tr>\n",
       "    <tr>\n",
       "      <th>228</th>\n",
       "      <td>228</td>\n",
       "      <td>2020-09-14</td>\n",
       "      <td>92071</td>\n",
       "      <td>4846427</td>\n",
       "      <td>1136</td>\n",
       "      <td>79722</td>\n",
       "      <td>September</td>\n",
       "      <td>33</td>\n",
       "      <td>9</td>\n",
       "    </tr>\n",
       "    <tr>\n",
       "      <th>229</th>\n",
       "      <td>229</td>\n",
       "      <td>2020-09-15</td>\n",
       "      <td>83809</td>\n",
       "      <td>4930236</td>\n",
       "      <td>1054</td>\n",
       "      <td>80776</td>\n",
       "      <td>September</td>\n",
       "      <td>33</td>\n",
       "      <td>9</td>\n",
       "    </tr>\n",
       "    <tr>\n",
       "      <th>230</th>\n",
       "      <td>230</td>\n",
       "      <td>2020-09-16</td>\n",
       "      <td>90123</td>\n",
       "      <td>5020359</td>\n",
       "      <td>1290</td>\n",
       "      <td>82066</td>\n",
       "      <td>September</td>\n",
       "      <td>33</td>\n",
       "      <td>9</td>\n",
       "    </tr>\n",
       "    <tr>\n",
       "      <th>231</th>\n",
       "      <td>231</td>\n",
       "      <td>2020-09-17</td>\n",
       "      <td>97894</td>\n",
       "      <td>5118253</td>\n",
       "      <td>1132</td>\n",
       "      <td>83198</td>\n",
       "      <td>September</td>\n",
       "      <td>34</td>\n",
       "      <td>9</td>\n",
       "    </tr>\n",
       "    <tr>\n",
       "      <th>232</th>\n",
       "      <td>232</td>\n",
       "      <td>2020-09-18</td>\n",
       "      <td>96424</td>\n",
       "      <td>5214677</td>\n",
       "      <td>1174</td>\n",
       "      <td>84372</td>\n",
       "      <td>September</td>\n",
       "      <td>34</td>\n",
       "      <td>9</td>\n",
       "    </tr>\n",
       "  </tbody>\n",
       "</table>\n",
       "<p>233 rows × 9 columns</p>\n",
       "</div>"
      ],
      "text/plain": [
       "     Unnamed: 0 Date_reported   New_cases   Cumulative_cases   New_deaths  \\\n",
       "0             0    2020-01-30           5                  5            0   \n",
       "1             1    2020-01-31           0                  5            0   \n",
       "2             2    2020-02-01           0                  5            0   \n",
       "3             3    2020-02-02           1                  6            0   \n",
       "4             4    2020-02-03           1                  7            0   \n",
       "..          ...           ...         ...                ...          ...   \n",
       "228         228    2020-09-14       92071            4846427         1136   \n",
       "229         229    2020-09-15       83809            4930236         1054   \n",
       "230         230    2020-09-16       90123            5020359         1290   \n",
       "231         231    2020-09-17       97894            5118253         1132   \n",
       "232         232    2020-09-18       96424            5214677         1174   \n",
       "\n",
       "      Cumulative_deaths      Month  Week number  Month number  \n",
       "0                     0    January            1             1  \n",
       "1                     0    January            1             1  \n",
       "2                     0   February            1             2  \n",
       "3                     0   February            1             2  \n",
       "4                     0   February            1             2  \n",
       "..                  ...        ...          ...           ...  \n",
       "228               79722  September           33             9  \n",
       "229               80776  September           33             9  \n",
       "230               82066  September           33             9  \n",
       "231               83198  September           34             9  \n",
       "232               84372  September           34             9  \n",
       "\n",
       "[233 rows x 9 columns]"
      ]
     },
     "execution_count": 36,
     "metadata": {},
     "output_type": "execute_result"
    }
   ],
   "source": [
    "df"
   ]
  },
  {
   "cell_type": "code",
   "execution_count": 37,
   "metadata": {},
   "outputs": [],
   "source": [
    "#the available dataframe is of 7 days a week and we need only need data of the week\n",
    "df = df[6::7]"
   ]
  },
  {
   "cell_type": "code",
   "execution_count": 38,
   "metadata": {},
   "outputs": [
    {
     "data": {
      "text/html": [
       "<div>\n",
       "<style scoped>\n",
       "    .dataframe tbody tr th:only-of-type {\n",
       "        vertical-align: middle;\n",
       "    }\n",
       "\n",
       "    .dataframe tbody tr th {\n",
       "        vertical-align: top;\n",
       "    }\n",
       "\n",
       "    .dataframe thead th {\n",
       "        text-align: right;\n",
       "    }\n",
       "</style>\n",
       "<table border=\"1\" class=\"dataframe\">\n",
       "  <thead>\n",
       "    <tr style=\"text-align: right;\">\n",
       "      <th></th>\n",
       "      <th>Unnamed: 0</th>\n",
       "      <th>Date_reported</th>\n",
       "      <th>New_cases</th>\n",
       "      <th>Cumulative_cases</th>\n",
       "      <th>New_deaths</th>\n",
       "      <th>Cumulative_deaths</th>\n",
       "      <th>Month</th>\n",
       "      <th>Week number</th>\n",
       "      <th>Month number</th>\n",
       "    </tr>\n",
       "  </thead>\n",
       "  <tbody>\n",
       "    <tr>\n",
       "      <th>6</th>\n",
       "      <td>6</td>\n",
       "      <td>2020-02-05</td>\n",
       "      <td>0</td>\n",
       "      <td>7</td>\n",
       "      <td>0</td>\n",
       "      <td>0</td>\n",
       "      <td>February</td>\n",
       "      <td>1</td>\n",
       "      <td>2</td>\n",
       "    </tr>\n",
       "    <tr>\n",
       "      <th>13</th>\n",
       "      <td>13</td>\n",
       "      <td>2020-02-12</td>\n",
       "      <td>0</td>\n",
       "      <td>7</td>\n",
       "      <td>0</td>\n",
       "      <td>0</td>\n",
       "      <td>February</td>\n",
       "      <td>2</td>\n",
       "      <td>2</td>\n",
       "    </tr>\n",
       "    <tr>\n",
       "      <th>20</th>\n",
       "      <td>20</td>\n",
       "      <td>2020-02-19</td>\n",
       "      <td>0</td>\n",
       "      <td>7</td>\n",
       "      <td>0</td>\n",
       "      <td>0</td>\n",
       "      <td>February</td>\n",
       "      <td>3</td>\n",
       "      <td>2</td>\n",
       "    </tr>\n",
       "    <tr>\n",
       "      <th>27</th>\n",
       "      <td>27</td>\n",
       "      <td>2020-02-26</td>\n",
       "      <td>0</td>\n",
       "      <td>7</td>\n",
       "      <td>0</td>\n",
       "      <td>0</td>\n",
       "      <td>February</td>\n",
       "      <td>4</td>\n",
       "      <td>2</td>\n",
       "    </tr>\n",
       "    <tr>\n",
       "      <th>34</th>\n",
       "      <td>34</td>\n",
       "      <td>2020-03-04</td>\n",
       "      <td>22</td>\n",
       "      <td>31</td>\n",
       "      <td>0</td>\n",
       "      <td>0</td>\n",
       "      <td>March</td>\n",
       "      <td>5</td>\n",
       "      <td>3</td>\n",
       "    </tr>\n",
       "    <tr>\n",
       "      <th>41</th>\n",
       "      <td>41</td>\n",
       "      <td>2020-03-11</td>\n",
       "      <td>10</td>\n",
       "      <td>64</td>\n",
       "      <td>0</td>\n",
       "      <td>0</td>\n",
       "      <td>March</td>\n",
       "      <td>6</td>\n",
       "      <td>3</td>\n",
       "    </tr>\n",
       "    <tr>\n",
       "      <th>48</th>\n",
       "      <td>48</td>\n",
       "      <td>2020-03-18</td>\n",
       "      <td>14</td>\n",
       "      <td>155</td>\n",
       "      <td>0</td>\n",
       "      <td>3</td>\n",
       "      <td>March</td>\n",
       "      <td>7</td>\n",
       "      <td>3</td>\n",
       "    </tr>\n",
       "    <tr>\n",
       "      <th>55</th>\n",
       "      <td>55</td>\n",
       "      <td>2020-03-25</td>\n",
       "      <td>87</td>\n",
       "      <td>606</td>\n",
       "      <td>1</td>\n",
       "      <td>10</td>\n",
       "      <td>March</td>\n",
       "      <td>8</td>\n",
       "      <td>3</td>\n",
       "    </tr>\n",
       "    <tr>\n",
       "      <th>62</th>\n",
       "      <td>62</td>\n",
       "      <td>2020-04-01</td>\n",
       "      <td>385</td>\n",
       "      <td>1636</td>\n",
       "      <td>6</td>\n",
       "      <td>38</td>\n",
       "      <td>April</td>\n",
       "      <td>9</td>\n",
       "      <td>4</td>\n",
       "    </tr>\n",
       "    <tr>\n",
       "      <th>69</th>\n",
       "      <td>69</td>\n",
       "      <td>2020-04-08</td>\n",
       "      <td>853</td>\n",
       "      <td>5274</td>\n",
       "      <td>35</td>\n",
       "      <td>149</td>\n",
       "      <td>April</td>\n",
       "      <td>10</td>\n",
       "      <td>4</td>\n",
       "    </tr>\n",
       "    <tr>\n",
       "      <th>76</th>\n",
       "      <td>76</td>\n",
       "      <td>2020-04-15</td>\n",
       "      <td>1076</td>\n",
       "      <td>11439</td>\n",
       "      <td>38</td>\n",
       "      <td>377</td>\n",
       "      <td>April</td>\n",
       "      <td>11</td>\n",
       "      <td>4</td>\n",
       "    </tr>\n",
       "    <tr>\n",
       "      <th>83</th>\n",
       "      <td>83</td>\n",
       "      <td>2020-04-22</td>\n",
       "      <td>1383</td>\n",
       "      <td>19984</td>\n",
       "      <td>50</td>\n",
       "      <td>640</td>\n",
       "      <td>April</td>\n",
       "      <td>12</td>\n",
       "      <td>4</td>\n",
       "    </tr>\n",
       "    <tr>\n",
       "      <th>90</th>\n",
       "      <td>90</td>\n",
       "      <td>2020-04-29</td>\n",
       "      <td>1897</td>\n",
       "      <td>31332</td>\n",
       "      <td>73</td>\n",
       "      <td>1007</td>\n",
       "      <td>April</td>\n",
       "      <td>13</td>\n",
       "      <td>4</td>\n",
       "    </tr>\n",
       "    <tr>\n",
       "      <th>97</th>\n",
       "      <td>97</td>\n",
       "      <td>2020-05-06</td>\n",
       "      <td>2958</td>\n",
       "      <td>49391</td>\n",
       "      <td>126</td>\n",
       "      <td>1694</td>\n",
       "      <td>May</td>\n",
       "      <td>14</td>\n",
       "      <td>5</td>\n",
       "    </tr>\n",
       "    <tr>\n",
       "      <th>104</th>\n",
       "      <td>104</td>\n",
       "      <td>2020-05-13</td>\n",
       "      <td>3525</td>\n",
       "      <td>74281</td>\n",
       "      <td>122</td>\n",
       "      <td>2415</td>\n",
       "      <td>May</td>\n",
       "      <td>15</td>\n",
       "      <td>5</td>\n",
       "    </tr>\n",
       "    <tr>\n",
       "      <th>111</th>\n",
       "      <td>111</td>\n",
       "      <td>2020-05-20</td>\n",
       "      <td>5611</td>\n",
       "      <td>106750</td>\n",
       "      <td>140</td>\n",
       "      <td>3303</td>\n",
       "      <td>May</td>\n",
       "      <td>16</td>\n",
       "      <td>5</td>\n",
       "    </tr>\n",
       "    <tr>\n",
       "      <th>118</th>\n",
       "      <td>118</td>\n",
       "      <td>2020-05-27</td>\n",
       "      <td>6387</td>\n",
       "      <td>151767</td>\n",
       "      <td>170</td>\n",
       "      <td>4337</td>\n",
       "      <td>May</td>\n",
       "      <td>17</td>\n",
       "      <td>5</td>\n",
       "    </tr>\n",
       "    <tr>\n",
       "      <th>125</th>\n",
       "      <td>125</td>\n",
       "      <td>2020-06-03</td>\n",
       "      <td>8909</td>\n",
       "      <td>207615</td>\n",
       "      <td>217</td>\n",
       "      <td>5815</td>\n",
       "      <td>June</td>\n",
       "      <td>18</td>\n",
       "      <td>6</td>\n",
       "    </tr>\n",
       "    <tr>\n",
       "      <th>132</th>\n",
       "      <td>132</td>\n",
       "      <td>2020-06-10</td>\n",
       "      <td>9985</td>\n",
       "      <td>276583</td>\n",
       "      <td>279</td>\n",
       "      <td>7745</td>\n",
       "      <td>June</td>\n",
       "      <td>19</td>\n",
       "      <td>6</td>\n",
       "    </tr>\n",
       "    <tr>\n",
       "      <th>139</th>\n",
       "      <td>139</td>\n",
       "      <td>2020-06-17</td>\n",
       "      <td>10974</td>\n",
       "      <td>354065</td>\n",
       "      <td>2003</td>\n",
       "      <td>11903</td>\n",
       "      <td>June</td>\n",
       "      <td>20</td>\n",
       "      <td>6</td>\n",
       "    </tr>\n",
       "    <tr>\n",
       "      <th>146</th>\n",
       "      <td>146</td>\n",
       "      <td>2020-06-24</td>\n",
       "      <td>15968</td>\n",
       "      <td>456183</td>\n",
       "      <td>465</td>\n",
       "      <td>14476</td>\n",
       "      <td>June</td>\n",
       "      <td>21</td>\n",
       "      <td>6</td>\n",
       "    </tr>\n",
       "    <tr>\n",
       "      <th>153</th>\n",
       "      <td>153</td>\n",
       "      <td>2020-07-01</td>\n",
       "      <td>18653</td>\n",
       "      <td>585493</td>\n",
       "      <td>507</td>\n",
       "      <td>17400</td>\n",
       "      <td>July</td>\n",
       "      <td>22</td>\n",
       "      <td>7</td>\n",
       "    </tr>\n",
       "    <tr>\n",
       "      <th>160</th>\n",
       "      <td>160</td>\n",
       "      <td>2020-07-08</td>\n",
       "      <td>22752</td>\n",
       "      <td>742417</td>\n",
       "      <td>482</td>\n",
       "      <td>20642</td>\n",
       "      <td>July</td>\n",
       "      <td>23</td>\n",
       "      <td>7</td>\n",
       "    </tr>\n",
       "    <tr>\n",
       "      <th>167</th>\n",
       "      <td>167</td>\n",
       "      <td>2020-07-15</td>\n",
       "      <td>29429</td>\n",
       "      <td>936181</td>\n",
       "      <td>582</td>\n",
       "      <td>24309</td>\n",
       "      <td>July</td>\n",
       "      <td>24</td>\n",
       "      <td>7</td>\n",
       "    </tr>\n",
       "    <tr>\n",
       "      <th>174</th>\n",
       "      <td>174</td>\n",
       "      <td>2020-07-22</td>\n",
       "      <td>37724</td>\n",
       "      <td>1192915</td>\n",
       "      <td>648</td>\n",
       "      <td>28732</td>\n",
       "      <td>July</td>\n",
       "      <td>25</td>\n",
       "      <td>7</td>\n",
       "    </tr>\n",
       "    <tr>\n",
       "      <th>181</th>\n",
       "      <td>181</td>\n",
       "      <td>2020-07-29</td>\n",
       "      <td>48513</td>\n",
       "      <td>1531669</td>\n",
       "      <td>768</td>\n",
       "      <td>34193</td>\n",
       "      <td>July</td>\n",
       "      <td>26</td>\n",
       "      <td>7</td>\n",
       "    </tr>\n",
       "    <tr>\n",
       "      <th>188</th>\n",
       "      <td>188</td>\n",
       "      <td>2020-08-05</td>\n",
       "      <td>52509</td>\n",
       "      <td>1908254</td>\n",
       "      <td>857</td>\n",
       "      <td>39795</td>\n",
       "      <td>August</td>\n",
       "      <td>27</td>\n",
       "      <td>8</td>\n",
       "    </tr>\n",
       "    <tr>\n",
       "      <th>195</th>\n",
       "      <td>195</td>\n",
       "      <td>2020-08-12</td>\n",
       "      <td>60963</td>\n",
       "      <td>2329638</td>\n",
       "      <td>834</td>\n",
       "      <td>46091</td>\n",
       "      <td>August</td>\n",
       "      <td>28</td>\n",
       "      <td>8</td>\n",
       "    </tr>\n",
       "    <tr>\n",
       "      <th>202</th>\n",
       "      <td>202</td>\n",
       "      <td>2020-08-19</td>\n",
       "      <td>64531</td>\n",
       "      <td>2767273</td>\n",
       "      <td>1092</td>\n",
       "      <td>52889</td>\n",
       "      <td>August</td>\n",
       "      <td>29</td>\n",
       "      <td>8</td>\n",
       "    </tr>\n",
       "    <tr>\n",
       "      <th>209</th>\n",
       "      <td>209</td>\n",
       "      <td>2020-08-26</td>\n",
       "      <td>67151</td>\n",
       "      <td>3234474</td>\n",
       "      <td>1059</td>\n",
       "      <td>59449</td>\n",
       "      <td>August</td>\n",
       "      <td>30</td>\n",
       "      <td>8</td>\n",
       "    </tr>\n",
       "    <tr>\n",
       "      <th>216</th>\n",
       "      <td>216</td>\n",
       "      <td>2020-09-02</td>\n",
       "      <td>78357</td>\n",
       "      <td>3769523</td>\n",
       "      <td>1045</td>\n",
       "      <td>66333</td>\n",
       "      <td>September</td>\n",
       "      <td>31</td>\n",
       "      <td>9</td>\n",
       "    </tr>\n",
       "    <tr>\n",
       "      <th>223</th>\n",
       "      <td>223</td>\n",
       "      <td>2020-09-09</td>\n",
       "      <td>89706</td>\n",
       "      <td>4370128</td>\n",
       "      <td>1115</td>\n",
       "      <td>73890</td>\n",
       "      <td>September</td>\n",
       "      <td>32</td>\n",
       "      <td>9</td>\n",
       "    </tr>\n",
       "    <tr>\n",
       "      <th>230</th>\n",
       "      <td>230</td>\n",
       "      <td>2020-09-16</td>\n",
       "      <td>90123</td>\n",
       "      <td>5020359</td>\n",
       "      <td>1290</td>\n",
       "      <td>82066</td>\n",
       "      <td>September</td>\n",
       "      <td>33</td>\n",
       "      <td>9</td>\n",
       "    </tr>\n",
       "  </tbody>\n",
       "</table>\n",
       "</div>"
      ],
      "text/plain": [
       "     Unnamed: 0 Date_reported   New_cases   Cumulative_cases   New_deaths  \\\n",
       "6             6    2020-02-05           0                  7            0   \n",
       "13           13    2020-02-12           0                  7            0   \n",
       "20           20    2020-02-19           0                  7            0   \n",
       "27           27    2020-02-26           0                  7            0   \n",
       "34           34    2020-03-04          22                 31            0   \n",
       "41           41    2020-03-11          10                 64            0   \n",
       "48           48    2020-03-18          14                155            0   \n",
       "55           55    2020-03-25          87                606            1   \n",
       "62           62    2020-04-01         385               1636            6   \n",
       "69           69    2020-04-08         853               5274           35   \n",
       "76           76    2020-04-15        1076              11439           38   \n",
       "83           83    2020-04-22        1383              19984           50   \n",
       "90           90    2020-04-29        1897              31332           73   \n",
       "97           97    2020-05-06        2958              49391          126   \n",
       "104         104    2020-05-13        3525              74281          122   \n",
       "111         111    2020-05-20        5611             106750          140   \n",
       "118         118    2020-05-27        6387             151767          170   \n",
       "125         125    2020-06-03        8909             207615          217   \n",
       "132         132    2020-06-10        9985             276583          279   \n",
       "139         139    2020-06-17       10974             354065         2003   \n",
       "146         146    2020-06-24       15968             456183          465   \n",
       "153         153    2020-07-01       18653             585493          507   \n",
       "160         160    2020-07-08       22752             742417          482   \n",
       "167         167    2020-07-15       29429             936181          582   \n",
       "174         174    2020-07-22       37724            1192915          648   \n",
       "181         181    2020-07-29       48513            1531669          768   \n",
       "188         188    2020-08-05       52509            1908254          857   \n",
       "195         195    2020-08-12       60963            2329638          834   \n",
       "202         202    2020-08-19       64531            2767273         1092   \n",
       "209         209    2020-08-26       67151            3234474         1059   \n",
       "216         216    2020-09-02       78357            3769523         1045   \n",
       "223         223    2020-09-09       89706            4370128         1115   \n",
       "230         230    2020-09-16       90123            5020359         1290   \n",
       "\n",
       "      Cumulative_deaths      Month  Week number  Month number  \n",
       "6                     0   February            1             2  \n",
       "13                    0   February            2             2  \n",
       "20                    0   February            3             2  \n",
       "27                    0   February            4             2  \n",
       "34                    0      March            5             3  \n",
       "41                    0      March            6             3  \n",
       "48                    3      March            7             3  \n",
       "55                   10      March            8             3  \n",
       "62                   38      April            9             4  \n",
       "69                  149      April           10             4  \n",
       "76                  377      April           11             4  \n",
       "83                  640      April           12             4  \n",
       "90                 1007      April           13             4  \n",
       "97                 1694        May           14             5  \n",
       "104                2415        May           15             5  \n",
       "111                3303        May           16             5  \n",
       "118                4337        May           17             5  \n",
       "125                5815       June           18             6  \n",
       "132                7745       June           19             6  \n",
       "139               11903       June           20             6  \n",
       "146               14476       June           21             6  \n",
       "153               17400       July           22             7  \n",
       "160               20642       July           23             7  \n",
       "167               24309       July           24             7  \n",
       "174               28732       July           25             7  \n",
       "181               34193       July           26             7  \n",
       "188               39795     August           27             8  \n",
       "195               46091     August           28             8  \n",
       "202               52889     August           29             8  \n",
       "209               59449     August           30             8  \n",
       "216               66333  September           31             9  \n",
       "223               73890  September           32             9  \n",
       "230               82066  September           33             9  "
      ]
     },
     "execution_count": 38,
     "metadata": {},
     "output_type": "execute_result"
    }
   ],
   "source": [
    "df"
   ]
  },
  {
   "cell_type": "code",
   "execution_count": 39,
   "metadata": {},
   "outputs": [],
   "source": [
    "from sklearn.preprocessing import PolynomialFeatures "
   ]
  },
  {
   "cell_type": "code",
   "execution_count": 40,
   "metadata": {},
   "outputs": [
    {
     "data": {
      "text/plain": [
       "<matplotlib.collections.PathCollection at 0x1fdf2d554c0>"
      ]
     },
     "execution_count": 40,
     "metadata": {},
     "output_type": "execute_result"
    },
    {
     "data": {
      "image/png": "[encoded data removed]",
      "text/plain": [
       "<Figure size 432x288 with 1 Axes>"
      ]
     },
     "metadata": {
      "needs_background": "light"
     },
     "output_type": "display_data"
    }
   ],
   "source": [
    "poly = PolynomialFeatures(degree = 4) \n",
    "X_poly = poly.fit_transform(X) \n",
    "x=df['Week number']\n",
    "y=df[' Cumulative_cases']\n",
    "plt.scatter(x, y)"
   ]
  },
  {
   "cell_type": "code",
   "execution_count": 41,
   "metadata": {},
   "outputs": [
    {
     "data": {
      "image/png": "[encoded data removed]",
      "text/plain": [
       "<Figure size 432x288 with 1 Axes>"
      ]
     },
     "metadata": {
      "needs_background": "light"
     },
     "output_type": "display_data"
    }
   ],
   "source": [
    "mymodel = np.poly1d(np.polyfit(x, y, 4))\n",
    "myline = np.linspace(1, 35, 100)\n",
    "\n",
    "plt.scatter(x, y)\n",
    "plt.plot(myline, mymodel(myline))\n",
    "plt.show()"
   ]
  },
  {
   "cell_type": "code",
   "execution_count": 42,
   "metadata": {},
   "outputs": [
    {
     "data": {
      "text/plain": [
       "<matplotlib.collections.PathCollection at 0x1fdf2d7ed30>"
      ]
     },
     "execution_count": 42,
     "metadata": {},
     "output_type": "execute_result"
    },
    {
     "data": {
      "image/png": "[encoded data removed]",
      "text/plain": [
       "<Figure size 432x288 with 1 Axes>"
      ]
     },
     "metadata": {
      "needs_background": "light"
     },
     "output_type": "display_data"
    }
   ],
   "source": [
    "plt.scatter(x, y)"
   ]
  },
  {
   "cell_type": "code",
   "execution_count": 43,
   "metadata": {},
   "outputs": [
    {
     "data": {
      "image/png": "[encoded data removed]",
      "text/plain": [
       "<Figure size 432x288 with 1 Axes>"
      ]
     },
     "metadata": {
      "needs_background": "light"
     },
     "output_type": "display_data"
    }
   ],
   "source": [
    "myline = np.linspace(1, 35, 100)\n",
    "\n",
    "plt.scatter(x, y)\n",
    "plt.plot(myline, mymodel(myline))\n",
    "plt.show()"
   ]
  },
  {
   "cell_type": "code",
   "execution_count": 44,
   "metadata": {},
   "outputs": [
    {
     "name": "stdout",
     "output_type": "stream",
     "text": [
      "5860025.143914117\n",
      "6723773.665850257\n",
      "7677557.483089257\n",
      "8727258.844629146\n",
      "9878940.157781798\n",
      "11138843.988172922\n",
      "12513393.05974207\n",
      "14009190.254742637\n",
      "15633018.613741867\n",
      "17391841.335620828\n",
      "19292801.77757445\n",
      "21343223.455111485\n",
      "23550610.042054545\n",
      "25922645.370540064\n",
      "28467193.43101835\n"
     ]
    }
   ],
   "source": [
    "list_y = []\n",
    "for i in range(34,49): #From Week1 Covid 19 started in India till (16 Sept-Week33 Complete)Till Dec-Weeks48 Would complete\n",
    "    y = mymodel(i)  #i is week number #y is total number of cases repectively\n",
    "    print(y)\n",
    "    list_y.append(y)"
   ]
  },
  {
   "cell_type": "code",
   "execution_count": 45,
   "metadata": {},
   "outputs": [],
   "source": [
    "list_x = []\n",
    "for i in range(34,49):\n",
    "    y = i \n",
    "    list_x.append(y)"
   ]
  },
  {
   "cell_type": "code",
   "execution_count": 46,
   "metadata": {},
   "outputs": [
    {
     "data": {
      "text/plain": [
       "<matplotlib.collections.PathCollection at 0x1fdf2ed41c0>"
      ]
     },
     "execution_count": 46,
     "metadata": {},
     "output_type": "execute_result"
    },
    {
     "data": {
      "image/png": "[encoded data removed]",
      "text/plain": [
       "<Figure size 432x288 with 1 Axes>"
      ]
     },
     "metadata": {
      "needs_background": "light"
     },
     "output_type": "display_data"
    }
   ],
   "source": [
    "x=df['Week number']\n",
    "y=df[' Cumulative_cases']\n",
    "plt.scatter(x, y)\n",
    "plt.xlabel('Week Number')\n",
    "plt.ylabel('Total cases in crore')\n",
    "x1=list_x\n",
    "y1=list_y\n",
    "plt.scatter(x1, y1,c='red')\n",
    "#red is prediction\n",
    "#blue is the current data available"
   ]
  },
  {
   "cell_type": "code",
   "execution_count": 47,
   "metadata": {},
   "outputs": [],
   "source": [
    "#input: week number\n",
    "#prediction total deaths"
   ]
  },
  {
   "cell_type": "code",
   "execution_count": 48,
   "metadata": {},
   "outputs": [
    {
     "data": {
      "text/plain": [
       "<matplotlib.collections.PathCollection at 0x1fdf2f24c10>"
      ]
     },
     "execution_count": 48,
     "metadata": {},
     "output_type": "execute_result"
    },
    {
     "data": {
      "image/png": "[encoded data removed]",
      "text/plain": [
       "<Figure size 432x288 with 1 Axes>"
      ]
     },
     "metadata": {
      "needs_background": "light"
     },
     "output_type": "display_data"
    }
   ],
   "source": [
    "from sklearn.preprocessing import PolynomialFeatures \n",
    "poly = PolynomialFeatures(degree = 4) \n",
    "X_poly = poly.fit_transform(X) \n",
    "x=df['Week number']\n",
    "y=df[' Cumulative_deaths']\n",
    "plt.scatter(x, y)"
   ]
  },
  {
   "cell_type": "code",
   "execution_count": 49,
   "metadata": {},
   "outputs": [
    {
     "data": {
      "image/png": "[encoded data removed]",
      "text/plain": [
       "<Figure size 432x288 with 1 Axes>"
      ]
     },
     "metadata": {
      "needs_background": "light"
     },
     "output_type": "display_data"
    }
   ],
   "source": [
    "mymodel = np.poly1d(np.polyfit(x, y, 4))\n",
    "myline = np.linspace(1, 35, 100)\n",
    "\n",
    "plt.scatter(x, y)\n",
    "plt.plot(myline, mymodel(myline))\n",
    "plt.show()"
   ]
  },
  {
   "cell_type": "code",
   "execution_count": 50,
   "metadata": {},
   "outputs": [
    {
     "name": "stdout",
     "output_type": "stream",
     "text": [
      "91236.48262379078\n",
      "100508.87043883184\n",
      "110254.47411909452\n",
      "120466.3348395953\n",
      "131135.85026602208\n",
      "142252.77455473386\n",
      "153805.21835276086\n",
      "165779.6487978047\n",
      "178160.8895182381\n",
      "190932.12063310528\n",
      "204074.87875212135\n",
      "217569.05697567307\n",
      "231392.9048948181\n",
      "245523.02859128546\n",
      "259934.39063747553\n"
     ]
    }
   ],
   "source": [
    "list_y2 = []\n",
    "for i in range(34,49):\n",
    "    y = mymodel(i)  #i is week number #y is total number of cases repectively\n",
    "    print(y)\n",
    "    list_y2.append(y)"
   ]
  },
  {
   "cell_type": "code",
   "execution_count": 51,
   "metadata": {},
   "outputs": [],
   "source": [
    "list_x = []\n",
    "for i in range(34,49):\n",
    "    y = i \n",
    "    list_x.append(y)"
   ]
  },
  {
   "cell_type": "code",
   "execution_count": 52,
   "metadata": {},
   "outputs": [
    {
     "data": {
      "text/plain": [
       "<matplotlib.collections.PathCollection at 0x1fdf2fe7400>"
      ]
     },
     "execution_count": 52,
     "metadata": {},
     "output_type": "execute_result"
    },
    {
     "data": {
      "image/png": "[encoded data removed]",
      "text/plain": [
       "<Figure size 432x288 with 1 Axes>"
      ]
     },
     "metadata": {
      "needs_background": "light"
     },
     "output_type": "display_data"
    }
   ],
   "source": [
    "x=df['Week number']\n",
    "y=df[' Cumulative_deaths']\n",
    "plt.scatter(x, y)\n",
    "plt.xlabel('Week Number')\n",
    "plt.ylabel('Total deaths')\n",
    "\n",
    "x1=list_x\n",
    "y1=list_y2\n",
    "plt.scatter(x1, y1,c='red')\n",
    "#red is prediction\n",
    "#blue is the current data available"
   ]
  },
  {
   "cell_type": "code",
   "execution_count": 53,
   "metadata": {},
   "outputs": [],
   "source": [
    "total_cases_predicted = list_y"
   ]
  },
  {
   "cell_type": "code",
   "execution_count": 54,
   "metadata": {},
   "outputs": [],
   "source": [
    "total_deaths_predicted = list_y2"
   ]
  },
  {
   "cell_type": "code",
   "execution_count": 55,
   "metadata": {},
   "outputs": [],
   "source": [
    "week_number = [34,35,36,37,38,39,40,41,42,43,44,45,46,47,48]"
   ]
  },
  {
   "cell_type": "code",
   "execution_count": 56,
   "metadata": {},
   "outputs": [],
   "source": [
    "date = ['17Sept-23Sept','24Sept-30Sept','1 Oct-7 Oct','8 Oct-14 Oct','15 Oct-21 Oct','22 Oct-28 Oct','29 Oct-4 Nov','5 Nov-11 Nov','12 Nov-18 Nov','19 Nov-25 Nov','26 Nov-2 Dec','3 Dec-9 Dec','10 Dec-16 Dec','17 Dec-23 Dec','24 Dec-30 Dec']"
   ]
  },
  {
   "cell_type": "code",
   "execution_count": 57,
   "metadata": {},
   "outputs": [],
   "source": [
    "total_cases_predicted = np.array(total_cases_predicted,dtype=int)"
   ]
  },
  {
   "cell_type": "code",
   "execution_count": 58,
   "metadata": {},
   "outputs": [],
   "source": [
    "total_deaths_predicted = np.array(total_deaths_predicted,dtype=int)"
   ]
  },
  {
   "cell_type": "code",
   "execution_count": 59,
   "metadata": {},
   "outputs": [],
   "source": [
    "week_number = np.array(week_number)"
   ]
  },
  {
   "cell_type": "code",
   "execution_count": 60,
   "metadata": {},
   "outputs": [],
   "source": [
    "date= np.array(date)"
   ]
  },
  {
   "cell_type": "code",
   "execution_count": 61,
   "metadata": {},
   "outputs": [],
   "source": [
    "d = {'total predicted cases':total_cases_predicted , 'total predicted deaths':total_deaths_predicted,'week number':week_number,'date' : date}\n",
    "dataset = pd.DataFrame(data=d)"
   ]
  },
  {
   "cell_type": "code",
   "execution_count": 62,
   "metadata": {},
   "outputs": [
    {
     "data": {
      "text/html": [
       "<div>\n",
       "<style scoped>\n",
       "    .dataframe tbody tr th:only-of-type {\n",
       "        vertical-align: middle;\n",
       "    }\n",
       "\n",
       "    .dataframe tbody tr th {\n",
       "        vertical-align: top;\n",
       "    }\n",
       "\n",
       "    .dataframe thead th {\n",
       "        text-align: right;\n",
       "    }\n",
       "</style>\n",
       "<table border=\"1\" class=\"dataframe\">\n",
       "  <thead>\n",
       "    <tr style=\"text-align: right;\">\n",
       "      <th></th>\n",
       "      <th>total predicted cases</th>\n",
       "      <th>total predicted deaths</th>\n",
       "      <th>week number</th>\n",
       "      <th>date</th>\n",
       "    </tr>\n",
       "  </thead>\n",
       "  <tbody>\n",
       "    <tr>\n",
       "      <th>0</th>\n",
       "      <td>5860025</td>\n",
       "      <td>91236</td>\n",
       "      <td>34</td>\n",
       "      <td>17Sept-23Sept</td>\n",
       "    </tr>\n",
       "    <tr>\n",
       "      <th>1</th>\n",
       "      <td>6723773</td>\n",
       "      <td>100508</td>\n",
       "      <td>35</td>\n",
       "      <td>24Sept-30Sept</td>\n",
       "    </tr>\n",
       "    <tr>\n",
       "      <th>2</th>\n",
       "      <td>7677557</td>\n",
       "      <td>110254</td>\n",
       "      <td>36</td>\n",
       "      <td>1 Oct-7 Oct</td>\n",
       "    </tr>\n",
       "    <tr>\n",
       "      <th>3</th>\n",
       "      <td>8727258</td>\n",
       "      <td>120466</td>\n",
       "      <td>37</td>\n",
       "      <td>8 Oct-14 Oct</td>\n",
       "    </tr>\n",
       "    <tr>\n",
       "      <th>4</th>\n",
       "      <td>9878940</td>\n",
       "      <td>131135</td>\n",
       "      <td>38</td>\n",
       "      <td>15 Oct-21 Oct</td>\n",
       "    </tr>\n",
       "    <tr>\n",
       "      <th>5</th>\n",
       "      <td>11138843</td>\n",
       "      <td>142252</td>\n",
       "      <td>39</td>\n",
       "      <td>22 Oct-28 Oct</td>\n",
       "    </tr>\n",
       "    <tr>\n",
       "      <th>6</th>\n",
       "      <td>12513393</td>\n",
       "      <td>153805</td>\n",
       "      <td>40</td>\n",
       "      <td>29 Oct-4 Nov</td>\n",
       "    </tr>\n",
       "    <tr>\n",
       "      <th>7</th>\n",
       "      <td>14009190</td>\n",
       "      <td>165779</td>\n",
       "      <td>41</td>\n",
       "      <td>5 Nov-11 Nov</td>\n",
       "    </tr>\n",
       "    <tr>\n",
       "      <th>8</th>\n",
       "      <td>15633018</td>\n",
       "      <td>178160</td>\n",
       "      <td>42</td>\n",
       "      <td>12 Nov-18 Nov</td>\n",
       "    </tr>\n",
       "    <tr>\n",
       "      <th>9</th>\n",
       "      <td>17391841</td>\n",
       "      <td>190932</td>\n",
       "      <td>43</td>\n",
       "      <td>19 Nov-25 Nov</td>\n",
       "    </tr>\n",
       "    <tr>\n",
       "      <th>10</th>\n",
       "      <td>19292801</td>\n",
       "      <td>204074</td>\n",
       "      <td>44</td>\n",
       "      <td>26 Nov-2 Dec</td>\n",
       "    </tr>\n",
       "    <tr>\n",
       "      <th>11</th>\n",
       "      <td>21343223</td>\n",
       "      <td>217569</td>\n",
       "      <td>45</td>\n",
       "      <td>3 Dec-9 Dec</td>\n",
       "    </tr>\n",
       "    <tr>\n",
       "      <th>12</th>\n",
       "      <td>23550610</td>\n",
       "      <td>231392</td>\n",
       "      <td>46</td>\n",
       "      <td>10 Dec-16 Dec</td>\n",
       "    </tr>\n",
       "    <tr>\n",
       "      <th>13</th>\n",
       "      <td>25922645</td>\n",
       "      <td>245523</td>\n",
       "      <td>47</td>\n",
       "      <td>17 Dec-23 Dec</td>\n",
       "    </tr>\n",
       "    <tr>\n",
       "      <th>14</th>\n",
       "      <td>28467193</td>\n",
       "      <td>259934</td>\n",
       "      <td>48</td>\n",
       "      <td>24 Dec-30 Dec</td>\n",
       "    </tr>\n",
       "  </tbody>\n",
       "</table>\n",
       "</div>"
      ],
      "text/plain": [
       "    total predicted cases  total predicted deaths  week number           date\n",
       "0                 5860025                   91236           34  17Sept-23Sept\n",
       "1                 6723773                  100508           35  24Sept-30Sept\n",
       "2                 7677557                  110254           36    1 Oct-7 Oct\n",
       "3                 8727258                  120466           37   8 Oct-14 Oct\n",
       "4                 9878940                  131135           38  15 Oct-21 Oct\n",
       "5                11138843                  142252           39  22 Oct-28 Oct\n",
       "6                12513393                  153805           40   29 Oct-4 Nov\n",
       "7                14009190                  165779           41   5 Nov-11 Nov\n",
       "8                15633018                  178160           42  12 Nov-18 Nov\n",
       "9                17391841                  190932           43  19 Nov-25 Nov\n",
       "10               19292801                  204074           44   26 Nov-2 Dec\n",
       "11               21343223                  217569           45    3 Dec-9 Dec\n",
       "12               23550610                  231392           46  10 Dec-16 Dec\n",
       "13               25922645                  245523           47  17 Dec-23 Dec\n",
       "14               28467193                  259934           48  24 Dec-30 Dec"
      ]
     },
     "execution_count": 62,
     "metadata": {},
     "output_type": "execute_result"
    }
   ],
   "source": [
    "dataset"
   ]
  },
  {
   "cell_type": "code",
   "execution_count": 63,
   "metadata": {},
   "outputs": [],
   "source": [
    "dataset.to_csv(r'C:\\Users\\iNDIA\\Programming\\Python project\\Covid-19 Prediction\\Covid19 India Future prediction.csv')"
   ]
  },
  {
   "cell_type": "code",
   "execution_count": 64,
   "metadata": {},
   "outputs": [],
   "source": [
    "cumulative_cases = np.array(cumulative_cases)"
   ]
  },
  {
   "cell_type": "code",
   "execution_count": 65,
   "metadata": {},
   "outputs": [],
   "source": [
    "cumulative_death = np.array(cumulative_death)"
   ]
  },
  {
   "cell_type": "code",
   "execution_count": 66,
   "metadata": {},
   "outputs": [
    {
     "data": {
      "text/plain": [
       "array([ 89229.89989977, 106618.64240552, 124007.38491128, 141396.12741703,\n",
       "       158784.86992279, 176173.61242854, 193562.3549343 , 210951.09744005,\n",
       "       228339.83994581, 245728.58245156, 263117.32495732, 280506.06746307,\n",
       "       297894.80996883, 315283.55247458, 332672.29498034, 350061.03748609,\n",
       "       367449.77999185, 384838.5224976 , 402227.26500336, 419616.00750911,\n",
       "       437004.75001487, 454393.49252063])"
      ]
     },
     "execution_count": 66,
     "metadata": {},
     "output_type": "execute_result"
    }
   ],
   "source": [
    "cumulative_death.reshape(22,)"
   ]
  },
  {
   "cell_type": "code",
   "execution_count": 67,
   "metadata": {},
   "outputs": [],
   "source": [
    "cumulative_death = cumulative_death.flatten()"
   ]
  },
  {
   "cell_type": "code",
   "execution_count": 68,
   "metadata": {},
   "outputs": [],
   "source": [
    "cumulative_cases = pd.Series(cumulative_cases)"
   ]
  },
  {
   "cell_type": "code",
   "execution_count": 69,
   "metadata": {},
   "outputs": [],
   "source": [
    "cumulative_death = pd.Series(cumulative_death)"
   ]
  },
  {
   "cell_type": "code",
   "execution_count": 70,
   "metadata": {},
   "outputs": [],
   "source": [
    "d1 = {'total cases':cumulative_cases , 'total deaths':cumulative_death }\n",
    "dataset1 = pd.DataFrame(data=d1)"
   ]
  },
  {
   "cell_type": "code",
   "execution_count": 71,
   "metadata": {},
   "outputs": [
    {
     "data": {
      "text/html": [
       "<div>\n",
       "<style scoped>\n",
       "    .dataframe tbody tr th:only-of-type {\n",
       "        vertical-align: middle;\n",
       "    }\n",
       "\n",
       "    .dataframe tbody tr th {\n",
       "        vertical-align: top;\n",
       "    }\n",
       "\n",
       "    .dataframe thead th {\n",
       "        text-align: right;\n",
       "    }\n",
       "</style>\n",
       "<table border=\"1\" class=\"dataframe\">\n",
       "  <thead>\n",
       "    <tr style=\"text-align: right;\">\n",
       "      <th></th>\n",
       "      <th>total cases</th>\n",
       "      <th>total deaths</th>\n",
       "    </tr>\n",
       "  </thead>\n",
       "  <tbody>\n",
       "    <tr>\n",
       "      <th>0</th>\n",
       "      <td>5000000</td>\n",
       "      <td>89229.899900</td>\n",
       "    </tr>\n",
       "    <tr>\n",
       "      <th>1</th>\n",
       "      <td>6000000</td>\n",
       "      <td>106618.642406</td>\n",
       "    </tr>\n",
       "    <tr>\n",
       "      <th>2</th>\n",
       "      <td>7000000</td>\n",
       "      <td>124007.384911</td>\n",
       "    </tr>\n",
       "    <tr>\n",
       "      <th>3</th>\n",
       "      <td>8000000</td>\n",
       "      <td>141396.127417</td>\n",
       "    </tr>\n",
       "    <tr>\n",
       "      <th>4</th>\n",
       "      <td>9000000</td>\n",
       "      <td>158784.869923</td>\n",
       "    </tr>\n",
       "    <tr>\n",
       "      <th>5</th>\n",
       "      <td>10000000</td>\n",
       "      <td>176173.612429</td>\n",
       "    </tr>\n",
       "    <tr>\n",
       "      <th>6</th>\n",
       "      <td>11000000</td>\n",
       "      <td>193562.354934</td>\n",
       "    </tr>\n",
       "    <tr>\n",
       "      <th>7</th>\n",
       "      <td>12000000</td>\n",
       "      <td>210951.097440</td>\n",
       "    </tr>\n",
       "    <tr>\n",
       "      <th>8</th>\n",
       "      <td>13000000</td>\n",
       "      <td>228339.839946</td>\n",
       "    </tr>\n",
       "    <tr>\n",
       "      <th>9</th>\n",
       "      <td>14000000</td>\n",
       "      <td>245728.582452</td>\n",
       "    </tr>\n",
       "    <tr>\n",
       "      <th>10</th>\n",
       "      <td>15000000</td>\n",
       "      <td>263117.324957</td>\n",
       "    </tr>\n",
       "    <tr>\n",
       "      <th>11</th>\n",
       "      <td>16000000</td>\n",
       "      <td>280506.067463</td>\n",
       "    </tr>\n",
       "    <tr>\n",
       "      <th>12</th>\n",
       "      <td>17000000</td>\n",
       "      <td>297894.809969</td>\n",
       "    </tr>\n",
       "    <tr>\n",
       "      <th>13</th>\n",
       "      <td>18000000</td>\n",
       "      <td>315283.552475</td>\n",
       "    </tr>\n",
       "    <tr>\n",
       "      <th>14</th>\n",
       "      <td>19000000</td>\n",
       "      <td>332672.294980</td>\n",
       "    </tr>\n",
       "    <tr>\n",
       "      <th>15</th>\n",
       "      <td>20000000</td>\n",
       "      <td>350061.037486</td>\n",
       "    </tr>\n",
       "    <tr>\n",
       "      <th>16</th>\n",
       "      <td>21000000</td>\n",
       "      <td>367449.779992</td>\n",
       "    </tr>\n",
       "    <tr>\n",
       "      <th>17</th>\n",
       "      <td>22000000</td>\n",
       "      <td>384838.522498</td>\n",
       "    </tr>\n",
       "    <tr>\n",
       "      <th>18</th>\n",
       "      <td>23000000</td>\n",
       "      <td>402227.265003</td>\n",
       "    </tr>\n",
       "    <tr>\n",
       "      <th>19</th>\n",
       "      <td>24000000</td>\n",
       "      <td>419616.007509</td>\n",
       "    </tr>\n",
       "    <tr>\n",
       "      <th>20</th>\n",
       "      <td>25000000</td>\n",
       "      <td>437004.750015</td>\n",
       "    </tr>\n",
       "    <tr>\n",
       "      <th>21</th>\n",
       "      <td>26000000</td>\n",
       "      <td>454393.492521</td>\n",
       "    </tr>\n",
       "  </tbody>\n",
       "</table>\n",
       "</div>"
      ],
      "text/plain": [
       "    total cases   total deaths\n",
       "0       5000000   89229.899900\n",
       "1       6000000  106618.642406\n",
       "2       7000000  124007.384911\n",
       "3       8000000  141396.127417\n",
       "4       9000000  158784.869923\n",
       "5      10000000  176173.612429\n",
       "6      11000000  193562.354934\n",
       "7      12000000  210951.097440\n",
       "8      13000000  228339.839946\n",
       "9      14000000  245728.582452\n",
       "10     15000000  263117.324957\n",
       "11     16000000  280506.067463\n",
       "12     17000000  297894.809969\n",
       "13     18000000  315283.552475\n",
       "14     19000000  332672.294980\n",
       "15     20000000  350061.037486\n",
       "16     21000000  367449.779992\n",
       "17     22000000  384838.522498\n",
       "18     23000000  402227.265003\n",
       "19     24000000  419616.007509\n",
       "20     25000000  437004.750015\n",
       "21     26000000  454393.492521"
      ]
     },
     "execution_count": 71,
     "metadata": {},
     "output_type": "execute_result"
    }
   ],
   "source": [
    "dataset1"
   ]
  },
  {
   "cell_type": "code",
   "execution_count": 72,
   "metadata": {},
   "outputs": [
    {
     "data": {
      "text/plain": [
       "<matplotlib.collections.PathCollection at 0x1fdf3038e20>"
      ]
     },
     "execution_count": 72,
     "metadata": {},
     "output_type": "execute_result"
    },
    {
     "data": {
      "image/png": "[encoded data removed]",
      "text/plain": [
       "<Figure size 432x288 with 1 Axes>"
      ]
     },
     "metadata": {
      "needs_background": "light"
     },
     "output_type": "display_data"
    }
   ],
   "source": [
    "plt.scatter(x=cumulative_cases,y=cumulative_death)               #linar reg\n",
    "plt.scatter(x=total_cases_predicted,y=total_deaths_predicted)    #polynomialreg"
   ]
  },
  {
   "cell_type": "code",
   "execution_count": 73,
   "metadata": {},
   "outputs": [],
   "source": [
    "death_average = (454393+259934)/2\n",
    "#454393-Cases Vs death (linear regression)\n",
    "#259934-Week Vs Death (polynomial regression)"
   ]
  },
  {
   "cell_type": "code",
   "execution_count": 74,
   "metadata": {},
   "outputs": [
    {
     "data": {
      "text/plain": [
       "357163.5"
      ]
     },
     "execution_count": 74,
     "metadata": {},
     "output_type": "execute_result"
    }
   ],
   "source": [
    "death_average"
   ]
  }
 ],
 "metadata": {
  "kernelspec": {
   "display_name": "Python 3",
   "language": "python",
   "name": "python3"
  },
  "language_info": {
   "codemirror_mode": {
    "name": "ipython",
    "version": 3
   },
   "file_extension": ".py",
   "mimetype": "text/x-python",
   "name": "python",
   "nbconvert_exporter": "python",
   "pygments_lexer": "ipython3",
   "version": "3.8.5"
  }
 },
 "nbformat": 4,
 "nbformat_minor": 4
}
